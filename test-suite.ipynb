{
 "cells": [
  {
   "cell_type": "code",
   "execution_count": null,
   "metadata": {
    "collapsed": true
   },
   "outputs": [],
   "source": [
    "#!/usr/bin/env python \n",
    "\n",
    "import requests\n",
    "import pandas as pd\n",
    "import numpy as np\n",
    "import scipy\n",
    "import geopandas as gpd\n",
    "import shapely\n",
    "import fiona\n",
    "import folium\n",
    "from shapely.geometry import Point\n",
    "import os, sys\n",
    "import psycopg2\n",
    "import json\n",
    "import zipfile\n",
    "\n",
    "import matplotlib \n",
    "%matplotlib inline"
   ]
  },
  {
   "cell_type": "code",
   "execution_count": null,
   "metadata": {
    "collapsed": true
   },
   "outputs": [],
   "source": [
    "os.system('curl https://www2.census.gov/geo/tiger/TIGER2016/TRACT/tl_2016_17_tract.zip -o il_tracts.zip')\n",
    "\n",
    "if not os.path.exists(\"il_tracts.zip\"):\n",
    "    print(\"Tract file is missing! curl failed! abort!\")\n",
    "    sys.exit()\n",
    "\n",
    "\n",
    "with zipfile.ZipFile(\"il_tracts.zip\", 'r') as z:\n",
    "    z.extractall(\"il_tracts\")"
   ]
  },
  {
   "cell_type": "code",
   "execution_count": null,
   "metadata": {
    "collapsed": true
   },
   "outputs": [],
   "source": [
    "gdf = gpd.read_file(\"il_tracts/tl_2016_17_tract.shp\")\n",
    "gdf = gdf.loc[gdf[\"ALAND\"] > 0].copy()\n",
    "\n",
    "gdf.rename(columns = {\"COUNTYFP\" : \"county\", \"TRACTCE\" : \"tract\"}, inplace = True)\n",
    "gdf[\"tract\"] = gdf.tract.astype(int)\n",
    "gdf[\"county\"] = gdf.county.astype(int)\n",
    "gdf[\"density\"] = gdf.county.astype(int)"
   ]
  },
  {
   "cell_type": "code",
   "execution_count": null,
   "metadata": {
    "collapsed": true
   },
   "outputs": [],
   "source": [
    "il_ba = requests.get(\"http://api.census.gov/data/2014/acs5/profile?for=tract:*&in=state:17+county:*&get=NAME,DP02_0067PE,DP02_0122E\").json()\n",
    "il_ba_df = pd.DataFrame(data = il_ba[1:], columns = [\"name\", \"ba\", \"pop\", \"state\", \"county\", \"tract\"])#[[\"county\", \"tract\", \"ba\", \"pop\"]]\n",
    "il_ba_df[\"county\"] = il_ba_df.county.astype(int)\n",
    "il_ba_df[\"tract\"] = il_ba_df.tract.astype(int)\n",
    "il_ba_df[\"ba\"] = il_ba_df.ba.str.replace(\"-\", \"0\").astype(float)\n",
    "il_ba_df[\"pop\"] = il_ba_df[\"pop\"].str.replace(\"-\", \"0\").astype(float)"
   ]
  },
  {
   "cell_type": "code",
   "execution_count": null,
   "metadata": {
    "collapsed": false
   },
   "outputs": [],
   "source": [
    "gdf = gdf.merge(il_ba_df, on = [\"county\", \"tract\"])\n",
    "gdf[\"density\"] = gdf[\"pop\"] / gdf.area\n",
    "\n",
    "ax = gdf[\"ba\"].plot(kind = \"hist\", weights = gdf[\"pop\"], normed = True)\n",
    "ax.set_xlabel(\"BA Fraction\")"
   ]
  },
  {
   "cell_type": "code",
   "execution_count": null,
   "metadata": {
    "collapsed": false
   },
   "outputs": [],
   "source": [
    "pt = Point(-87.6298, 41.8781)\n",
    "circ = pt.buffer(1.25)\n",
    "ax = gdf[gdf.intersects(circ)].plot(column = \"density\", linewidth = 0, scheme = \"quantiles\", k = 9, cmap = \"nipy_spectral\")\n",
    "ax.set_axis_off()"
   ]
  },
  {
   "cell_type": "code",
   "execution_count": null,
   "metadata": {
    "collapsed": false
   },
   "outputs": [],
   "source": [
    "colormap = folium.LinearColormap((\"orange\", \"white\", \"purple\"), vmin = 0, vmax = 50, caption = \"Percent Bachelors\")\n",
    "\n",
    "m = folium.Map([41.7943,-87.5907], zoom_start = 13, tiles = \"cartodbpositron\", max_zoom = 14, min_zoom = 6, attr = \"\")\n",
    "\n",
    "folium.GeoJson(gdf,\n",
    "               style_function = lambda feature: { \n",
    "                  'fillColor': colormap(feature['properties'][\"ba\"]) if feature[\"properties\"][\"ba\"] else \"k\",\n",
    "                  \"color\" : \"k\", \"weight\" : 0.3, \"fillOpacity\" : 0.4 if feature[\"properties\"][\"ba\"] else 0,\n",
    "               }).add_to(m)\n",
    "\n",
    "colormap.add_to(m)\n",
    "m"
   ]
  },
  {
   "cell_type": "code",
   "execution_count": null,
   "metadata": {
    "collapsed": true
   },
   "outputs": [],
   "source": []
  }
 ],
 "metadata": {
  "anaconda-cloud": {},
  "kernelspec": {
   "display_name": "Python [conda root]",
   "language": "python",
   "name": "conda-root-py"
  },
  "language_info": {
   "codemirror_mode": {
    "name": "ipython",
    "version": 3
   },
   "file_extension": ".py",
   "mimetype": "text/x-python",
   "name": "python",
   "nbconvert_exporter": "python",
   "pygments_lexer": "ipython3",
   "version": "3.5.3"
  }
 },
 "nbformat": 4,
 "nbformat_minor": 2
}
